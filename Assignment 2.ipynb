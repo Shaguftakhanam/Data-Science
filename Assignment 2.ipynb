{
 "cells": [
  {
   "cell_type": "markdown",
   "metadata": {},
   "source": [
    "# Assignment 2"
   ]
  },
  {
   "cell_type": "raw",
   "metadata": {},
   "source": [
    "Question 1:"
   ]
  },
  {
   "cell_type": "code",
   "execution_count": 8,
   "metadata": {},
   "outputs": [
    {
     "name": "stdout",
     "output_type": "stream",
     "text": [
      "Enter a Number:2\n",
      "Enter a Number:3\n",
      "Enter a Number:4\n",
      "Enter a Number:5\n",
      "Enter a Number:6\n",
      "Enter a Number:7\n",
      "Enter a Number:8\n",
      "Enter a Number:9\n",
      "Enter a Number:10\n",
      "Enter a Number:12\n",
      "[2, 4, 6, 8, 10, 12]\n"
     ]
    }
   ],
   "source": [
    "list1=[]\n",
    "for i in range(10):\n",
    "    input_number=int(input(\"Enter a Number:\"))\n",
    "    if(input_number%2==0):\n",
    "        list1.append(input_number)\n",
    "print(list1)"
   ]
  },
  {
   "cell_type": "raw",
   "metadata": {},
   "source": [
    "Question 2:"
   ]
  },
  {
   "cell_type": "code",
   "execution_count": 18,
   "metadata": {},
   "outputs": [
    {
     "name": "stdout",
     "output_type": "stream",
     "text": [
      "['h', 'u', 'm', 'a', 'n']\n",
      "[3, 4]\n",
      "[2, 3, 4, 'a', 'b', 16]\n",
      "[2, 3, 4, 'b', 16]\n",
      "16\n",
      "['apple', 'banana', 'mango']\n",
      "apple is present\n"
     ]
    }
   ],
   "source": [
    "letters = list(map(lambda x: x, 'human'))\n",
    "print(letters)\n",
    "lst=[2,3,4,'a','b']\n",
    "#slicing\n",
    "print(lst[1:3])\n",
    "#appending 16\n",
    "lst.append(16)\n",
    "print(lst)\n",
    "#removing a\n",
    "lst.remove('a')\n",
    "print(lst)\n",
    "#negative slicing\n",
    "print(lst[-1])\n",
    "#list comprehension\n",
    "fruits = [\"apple\", \"banana\", \"cherry\", \"kiwi\", \"mango\"]\n",
    "\n",
    "newlist = [x for x in fruits if \"a\" in x]\n",
    "\n",
    "print(newlist)\n",
    "\n",
    "if \"apple\" in fruits:\n",
    "    print(\"apple is present\")\n"
   ]
  },
  {
   "cell_type": "raw",
   "metadata": {},
   "source": [
    "Question 3:"
   ]
  },
  {
   "cell_type": "code",
   "execution_count": 20,
   "metadata": {},
   "outputs": [
    {
     "name": "stdout",
     "output_type": "stream",
     "text": [
      "8\n",
      "{1: 1, 2: 4, 3: 9, 4: 16, 5: 25, 6: 36, 7: 49, 8: 64}\n"
     ]
    }
   ],
   "source": [
    "#dictionary\n",
    "\n",
    "n=int(input())\n",
    "dict1={i:i*i for i in range(1,n+1)}\n",
    "print(dict1)"
   ]
  },
  {
   "cell_type": "raw",
   "metadata": {},
   "source": [
    "Question 4:"
   ]
  },
  {
   "cell_type": "code",
   "execution_count": 32,
   "metadata": {},
   "outputs": [
    {
     "name": "stdout",
     "output_type": "stream",
     "text": [
      " 4\n",
      "UP 5\n",
      "DOWN 3\n",
      "LEFT 3\n",
      "RIGHT 2\n",
      "2\n"
     ]
    }
   ],
   "source": [
    "import math\n",
    "x,y=0,0\n",
    "n=int(input(\" \"))\n",
    "for i in range(n):\n",
    "    movement=input()\n",
    "    movement=movement.split(\" \")\n",
    "    if movement[0]=='UP':\n",
    "        y+=int(movement[1])\n",
    "    elif movement[0]=='DOWN':\n",
    "        y-=int(movement[1])\n",
    "    elif movement[0]=='RIGHT':\n",
    "        x+=int(movement[1])\n",
    "    elif movement[0]=='LEFT':\n",
    "        x-=int(movement[1])\n",
    "#calculating distance\n",
    "dist=math.sqrt(x**2+y**2)\n",
    "print(round(dist))\n"
   ]
  },
  {
   "cell_type": "code",
   "execution_count": null,
   "metadata": {},
   "outputs": [],
   "source": []
  }
 ],
 "metadata": {
  "kernelspec": {
   "display_name": "Python 3",
   "language": "python",
   "name": "python3"
  },
  "language_info": {
   "codemirror_mode": {
    "name": "ipython",
    "version": 3
   },
   "file_extension": ".py",
   "mimetype": "text/x-python",
   "name": "python",
   "nbconvert_exporter": "python",
   "pygments_lexer": "ipython3",
   "version": "3.8.3"
  }
 },
 "nbformat": 4,
 "nbformat_minor": 4
}
