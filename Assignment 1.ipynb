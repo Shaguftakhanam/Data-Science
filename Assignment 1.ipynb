{
 "cells": [
  {
   "cell_type": "markdown",
   "metadata": {},
   "source": [
    "# Assignment Day 1"
   ]
  },
  {
   "cell_type": "raw",
   "metadata": {},
   "source": [
    "Question 1:"
   ]
  },
  {
   "cell_type": "code",
   "execution_count": 2,
   "metadata": {},
   "outputs": [
    {
     "name": "stdout",
     "output_type": "stream",
     "text": [
      "RAINBOW\n"
     ]
    }
   ],
   "source": [
    "word=\"OBANWRI\"\n",
    "options=[\"RANIBOW\",\"BOWRANI\",\"RAINBOW\",\"ROBWANI\"]\n",
    "correct=\"RAINBOW\"\n",
    "for i in options:\n",
    "    if i==correct:\n",
    "        print(correct)"
   ]
  },
  {
   "cell_type": "raw",
   "metadata": {},
   "source": [
    "Question 2:"
   ]
  },
  {
   "cell_type": "code",
   "execution_count": 3,
   "metadata": {},
   "outputs": [
    {
     "name": "stdout",
     "output_type": "stream",
     "text": [
      "Enter stringlets upgrade\n",
      "LETS UPGRADE\n"
     ]
    }
   ],
   "source": [
    "var=input(\"Enter string\")\n",
    "print(var.upper())"
   ]
  },
  {
   "cell_type": "raw",
   "metadata": {},
   "source": [
    "Question 3:"
   ]
  },
  {
   "cell_type": "code",
   "execution_count": 4,
   "metadata": {},
   "outputs": [
    {
     "name": "stdout",
     "output_type": "stream",
     "text": [
      "20\n",
      "30\n",
      "Profit\n"
     ]
    }
   ],
   "source": [
    "cp=input()\n",
    "sp=input()\n",
    "if sp>cp:\n",
    "    print(\"Profit\")\n",
    "elif sp<cp:\n",
    "    print(\"Loss\")\n",
    "elif sp==cp:\n",
    "    print(\"Neither\")"
   ]
  },
  {
   "cell_type": "code",
   "execution_count": 5,
   "metadata": {},
   "outputs": [
    {
     "name": "stdout",
     "output_type": "stream",
     "text": [
      "20\n",
      "10\n",
      "Loss\n"
     ]
    }
   ],
   "source": [
    "cp=input()\n",
    "sp=input()\n",
    "if sp>cp:\n",
    "    print(\"Profit\")\n",
    "elif sp<cp:\n",
    "    print(\"Loss\")\n",
    "elif sp==cp:\n",
    "    print(\"Neither\")"
   ]
  },
  {
   "cell_type": "code",
   "execution_count": 6,
   "metadata": {},
   "outputs": [
    {
     "name": "stdout",
     "output_type": "stream",
     "text": [
      "20\n",
      "20\n",
      "Neither\n"
     ]
    }
   ],
   "source": [
    "cp=input()\n",
    "sp=input()\n",
    "if sp>cp:\n",
    "    print(\"Profit\")\n",
    "elif sp<cp:\n",
    "    print(\"Loss\")\n",
    "elif sp==cp:\n",
    "    print(\"Neither\")"
   ]
  },
  {
   "cell_type": "code",
   "execution_count": 7,
   "metadata": {},
   "outputs": [
    {
     "name": "stdout",
     "output_type": "stream",
     "text": [
      "19\n",
      "19\n",
      "Neither\n"
     ]
    }
   ],
   "source": [
    "cp=input()\n",
    "sp=input()\n",
    "if sp>cp:\n",
    "    print(\"Profit\")\n",
    "elif sp<cp:\n",
    "    print(\"Loss\")\n",
    "elif sp==cp:\n",
    "    print(\"Neither\")"
   ]
  },
  {
   "cell_type": "code",
   "execution_count": 12,
   "metadata": {},
   "outputs": [
    {
     "name": "stdout",
     "output_type": "stream",
     "text": [
      "23\n",
      "07\n",
      "Loss\n"
     ]
    }
   ],
   "source": [
    "cp=input()\n",
    "sp=input()\n",
    "if sp>cp:\n",
    "    print(\"Profit\")\n",
    "elif sp<cp:\n",
    "    print(\"Loss\")\n",
    "elif sp==cp:\n",
    "    print(\"Neither\")"
   ]
  },
  {
   "cell_type": "code",
   "execution_count": 13,
   "metadata": {},
   "outputs": [
    {
     "name": "stdout",
     "output_type": "stream",
     "text": [
      "19\n",
      "95\n",
      "Profit\n"
     ]
    }
   ],
   "source": [
    "cp=input()\n",
    "sp=input()\n",
    "if sp>cp:\n",
    "    print(\"Profit\")\n",
    "elif sp<cp:\n",
    "    print(\"Loss\")\n",
    "elif sp==cp:\n",
    "    print(\"Neither\")"
   ]
  },
  {
   "cell_type": "raw",
   "metadata": {},
   "source": [
    "Question 4:"
   ]
  },
  {
   "cell_type": "code",
   "execution_count": 15,
   "metadata": {},
   "outputs": [
    {
     "name": "stdout",
     "output_type": "stream",
     "text": [
      "20\n",
      "1600\n"
     ]
    }
   ],
   "source": [
    "num=int(input())\n",
    "print(num*80)"
   ]
  },
  {
   "cell_type": "code",
   "execution_count": 16,
   "metadata": {},
   "outputs": [
    {
     "name": "stdout",
     "output_type": "stream",
     "text": [
      "50\n",
      "4000\n"
     ]
    }
   ],
   "source": [
    "num=int(input())\n",
    "print(num*80)"
   ]
  },
  {
   "cell_type": "code",
   "execution_count": 17,
   "metadata": {},
   "outputs": [
    {
     "name": "stdout",
     "output_type": "stream",
     "text": [
      "72\n",
      "5760\n"
     ]
    }
   ],
   "source": [
    "num=int(input())\n",
    "print(num*80)"
   ]
  },
  {
   "cell_type": "code",
   "execution_count": 18,
   "metadata": {},
   "outputs": [
    {
     "name": "stdout",
     "output_type": "stream",
     "text": [
      "7\n",
      "560\n"
     ]
    }
   ],
   "source": [
    "num=int(input())\n",
    "print(num*80)"
   ]
  },
  {
   "cell_type": "code",
   "execution_count": 19,
   "metadata": {},
   "outputs": [
    {
     "name": "stdout",
     "output_type": "stream",
     "text": [
      "35\n",
      "2800\n"
     ]
    }
   ],
   "source": [
    "num=int(input())\n",
    "print(num*80)"
   ]
  },
  {
   "cell_type": "code",
   "execution_count": 20,
   "metadata": {},
   "outputs": [
    {
     "name": "stdout",
     "output_type": "stream",
     "text": [
      "23\n",
      "1840\n"
     ]
    }
   ],
   "source": [
    "num=int(input())\n",
    "print(num*80)"
   ]
  },
  {
   "cell_type": "code",
   "execution_count": 21,
   "metadata": {},
   "outputs": [
    {
     "name": "stdout",
     "output_type": "stream",
     "text": [
      "95\n",
      "7600\n"
     ]
    }
   ],
   "source": [
    "num=int(input())\n",
    "print(num*80)"
   ]
  },
  {
   "cell_type": "code",
   "execution_count": 22,
   "metadata": {},
   "outputs": [
    {
     "name": "stdout",
     "output_type": "stream",
     "text": [
      "18\n",
      "1440\n"
     ]
    }
   ],
   "source": [
    "num=int(input())\n",
    "print(num*80)"
   ]
  },
  {
   "cell_type": "code",
   "execution_count": null,
   "metadata": {},
   "outputs": [],
   "source": []
  }
 ],
 "metadata": {
  "kernelspec": {
   "display_name": "Python 3",
   "language": "python",
   "name": "python3"
  },
  "language_info": {
   "codemirror_mode": {
    "name": "ipython",
    "version": 3
   },
   "file_extension": ".py",
   "mimetype": "text/x-python",
   "name": "python",
   "nbconvert_exporter": "python",
   "pygments_lexer": "ipython3",
   "version": "3.8.3"
  }
 },
 "nbformat": 4,
 "nbformat_minor": 4
}
